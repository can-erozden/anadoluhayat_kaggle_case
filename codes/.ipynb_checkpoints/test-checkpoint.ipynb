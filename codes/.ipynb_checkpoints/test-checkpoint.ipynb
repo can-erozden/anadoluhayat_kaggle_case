{
 "cells": [
  {
   "cell_type": "code",
   "execution_count": 1,
   "metadata": {},
   "outputs": [],
   "source": [
    "import pandas as pd\n",
    "import numpy as np"
   ]
  },
  {
   "cell_type": "code",
   "execution_count": 2,
   "metadata": {},
   "outputs": [],
   "source": [
    "df = pd.read_csv('../datasets/train.csv')"
   ]
  },
  {
   "cell_type": "code",
   "execution_count": 3,
   "metadata": {},
   "outputs": [
    {
     "data": {
      "text/html": [
       "<div>\n",
       "<style scoped>\n",
       "    .dataframe tbody tr th:only-of-type {\n",
       "        vertical-align: middle;\n",
       "    }\n",
       "\n",
       "    .dataframe tbody tr th {\n",
       "        vertical-align: top;\n",
       "    }\n",
       "\n",
       "    .dataframe thead th {\n",
       "        text-align: right;\n",
       "    }\n",
       "</style>\n",
       "<table border=\"1\" class=\"dataframe\">\n",
       "  <thead>\n",
       "    <tr style=\"text-align: right;\">\n",
       "      <th></th>\n",
       "      <th>POLICY_ID</th>\n",
       "      <th>OFFICE_ID</th>\n",
       "      <th>SIGORTA_TIP</th>\n",
       "      <th>SOZLESME_KOKENI</th>\n",
       "      <th>SOZLESME_KOKENI_DETAY</th>\n",
       "      <th>BASLANGIC_TARIHI</th>\n",
       "      <th>KAPSAM_TIPI</th>\n",
       "      <th>KAPSAM_GRUBU</th>\n",
       "      <th>DAGITIM_KANALI</th>\n",
       "      <th>POLICE_SEHIR</th>\n",
       "      <th>...</th>\n",
       "      <th>EYLUL_VADE_TUTARI</th>\n",
       "      <th>EKIM_ODENEN_TUTAR</th>\n",
       "      <th>EKIM_VADE_TUTARI</th>\n",
       "      <th>KASIM_ODENEN_TUTAR</th>\n",
       "      <th>KASIM_VADE_TUTARI</th>\n",
       "      <th>ARALIK_ODENEN_TUTAR</th>\n",
       "      <th>ARALIK_VADE_TUTARI</th>\n",
       "      <th>SENE_BASI_HESAP_DEGERI</th>\n",
       "      <th>SENE_SONU_HESAP_DEGERI</th>\n",
       "      <th>ARTIS_DURUMU</th>\n",
       "    </tr>\n",
       "  </thead>\n",
       "  <tbody>\n",
       "    <tr>\n",
       "      <th>634107</th>\n",
       "      <td>9328578</td>\n",
       "      <td>10773</td>\n",
       "      <td>1</td>\n",
       "      <td>NEW</td>\n",
       "      <td>NEW</td>\n",
       "      <td>2012-04</td>\n",
       "      <td>PENSION056</td>\n",
       "      <td>EV HANIMI</td>\n",
       "      <td>Kanal4 + Kanal2</td>\n",
       "      <td>GAZ?ANTEP</td>\n",
       "      <td>...</td>\n",
       "      <td>480.0</td>\n",
       "      <td>480</td>\n",
       "      <td>480.0</td>\n",
       "      <td>480</td>\n",
       "      <td>480.0</td>\n",
       "      <td>480</td>\n",
       "      <td>480.0</td>\n",
       "      <td>31436.26</td>\n",
       "      <td>39605.59</td>\n",
       "      <td>0</td>\n",
       "    </tr>\n",
       "    <tr>\n",
       "      <th>634108</th>\n",
       "      <td>1037693</td>\n",
       "      <td>10591</td>\n",
       "      <td>4</td>\n",
       "      <td>TRANS_TF</td>\n",
       "      <td>TRANS</td>\n",
       "      <td>2014-10</td>\n",
       "      <td>PENSION221</td>\n",
       "      <td>GRUPLANMAMI?</td>\n",
       "      <td>Kanal1</td>\n",
       "      <td>?STANBUL</td>\n",
       "      <td>...</td>\n",
       "      <td>95.0</td>\n",
       "      <td>95</td>\n",
       "      <td>95.0</td>\n",
       "      <td>95</td>\n",
       "      <td>95.0</td>\n",
       "      <td>95</td>\n",
       "      <td>95.0</td>\n",
       "      <td>798503.14</td>\n",
       "      <td>1045948.58</td>\n",
       "      <td>0</td>\n",
       "    </tr>\n",
       "    <tr>\n",
       "      <th>634109</th>\n",
       "      <td>4285594</td>\n",
       "      <td>11422</td>\n",
       "      <td>1</td>\n",
       "      <td>NEW</td>\n",
       "      <td>NEW</td>\n",
       "      <td>2013-03</td>\n",
       "      <td>PENSION195</td>\n",
       "      <td>GRUPLANMAMI?</td>\n",
       "      <td>Kanal4 + Kanal2</td>\n",
       "      <td>TRABZON</td>\n",
       "      <td>...</td>\n",
       "      <td>287.0</td>\n",
       "      <td>0</td>\n",
       "      <td>287.0</td>\n",
       "      <td>0</td>\n",
       "      <td>287.0</td>\n",
       "      <td>0</td>\n",
       "      <td>287.0</td>\n",
       "      <td>20958.77</td>\n",
       "      <td>23038.39</td>\n",
       "      <td>0</td>\n",
       "    </tr>\n",
       "    <tr>\n",
       "      <th>634110</th>\n",
       "      <td>5443282</td>\n",
       "      <td>10348</td>\n",
       "      <td>1</td>\n",
       "      <td>NEW</td>\n",
       "      <td>NEW</td>\n",
       "      <td>2014-05</td>\n",
       "      <td>PENSION215</td>\n",
       "      <td>GRUPLANMAMI?</td>\n",
       "      <td>Kanal4 + Kanal2</td>\n",
       "      <td>MERS?N</td>\n",
       "      <td>...</td>\n",
       "      <td>170.0</td>\n",
       "      <td>0</td>\n",
       "      <td>170.0</td>\n",
       "      <td>0</td>\n",
       "      <td>170.0</td>\n",
       "      <td>0</td>\n",
       "      <td>170.0</td>\n",
       "      <td>122.63</td>\n",
       "      <td>133.85</td>\n",
       "      <td>0</td>\n",
       "    </tr>\n",
       "    <tr>\n",
       "      <th>634111</th>\n",
       "      <td>6271932</td>\n",
       "      <td>10029</td>\n",
       "      <td>1</td>\n",
       "      <td>NEW</td>\n",
       "      <td>NEW</td>\n",
       "      <td>2014-12</td>\n",
       "      <td>PENSION215</td>\n",
       "      <td>GRUPLANMAMI?</td>\n",
       "      <td>Kanal1 + Kanal2</td>\n",
       "      <td>MAN?SA</td>\n",
       "      <td>...</td>\n",
       "      <td>270.0</td>\n",
       "      <td>0</td>\n",
       "      <td>270.0</td>\n",
       "      <td>0</td>\n",
       "      <td>270.0</td>\n",
       "      <td>0</td>\n",
       "      <td>270.0</td>\n",
       "      <td>59.57</td>\n",
       "      <td>63.84</td>\n",
       "      <td>0</td>\n",
       "    </tr>\n",
       "  </tbody>\n",
       "</table>\n",
       "<p>5 rows × 49 columns</p>\n",
       "</div>"
      ],
      "text/plain": [
       "        POLICY_ID  OFFICE_ID  SIGORTA_TIP SOZLESME_KOKENI  \\\n",
       "634107    9328578      10773            1             NEW   \n",
       "634108    1037693      10591            4        TRANS_TF   \n",
       "634109    4285594      11422            1             NEW   \n",
       "634110    5443282      10348            1             NEW   \n",
       "634111    6271932      10029            1             NEW   \n",
       "\n",
       "       SOZLESME_KOKENI_DETAY BASLANGIC_TARIHI KAPSAM_TIPI  KAPSAM_GRUBU  \\\n",
       "634107                   NEW          2012-04  PENSION056     EV HANIMI   \n",
       "634108                 TRANS          2014-10  PENSION221  GRUPLANMAMI?   \n",
       "634109                   NEW          2013-03  PENSION195  GRUPLANMAMI?   \n",
       "634110                   NEW          2014-05  PENSION215  GRUPLANMAMI?   \n",
       "634111                   NEW          2014-12  PENSION215  GRUPLANMAMI?   \n",
       "\n",
       "         DAGITIM_KANALI POLICE_SEHIR  ...  EYLUL_VADE_TUTARI  \\\n",
       "634107  Kanal4 + Kanal2    GAZ?ANTEP  ...              480.0   \n",
       "634108           Kanal1     ?STANBUL  ...               95.0   \n",
       "634109  Kanal4 + Kanal2      TRABZON  ...              287.0   \n",
       "634110  Kanal4 + Kanal2       MERS?N  ...              170.0   \n",
       "634111  Kanal1 + Kanal2       MAN?SA  ...              270.0   \n",
       "\n",
       "        EKIM_ODENEN_TUTAR EKIM_VADE_TUTARI  KASIM_ODENEN_TUTAR  \\\n",
       "634107                480            480.0                 480   \n",
       "634108                 95             95.0                  95   \n",
       "634109                  0            287.0                   0   \n",
       "634110                  0            170.0                   0   \n",
       "634111                  0            270.0                   0   \n",
       "\n",
       "       KASIM_VADE_TUTARI ARALIK_ODENEN_TUTAR  ARALIK_VADE_TUTARI  \\\n",
       "634107             480.0                 480               480.0   \n",
       "634108              95.0                  95                95.0   \n",
       "634109             287.0                   0               287.0   \n",
       "634110             170.0                   0               170.0   \n",
       "634111             270.0                   0               270.0   \n",
       "\n",
       "       SENE_BASI_HESAP_DEGERI SENE_SONU_HESAP_DEGERI ARTIS_DURUMU  \n",
       "634107               31436.26               39605.59            0  \n",
       "634108              798503.14             1045948.58            0  \n",
       "634109               20958.77               23038.39            0  \n",
       "634110                 122.63                 133.85            0  \n",
       "634111                  59.57                  63.84            0  \n",
       "\n",
       "[5 rows x 49 columns]"
      ]
     },
     "execution_count": 3,
     "metadata": {},
     "output_type": "execute_result"
    }
   ],
   "source": [
    "df.tail()"
   ]
  },
  {
   "cell_type": "code",
   "execution_count": 4,
   "metadata": {},
   "outputs": [
    {
     "data": {
      "text/plain": [
       "Index(['POLICY_ID', 'OFFICE_ID', 'SIGORTA_TIP', 'SOZLESME_KOKENI',\n",
       "       'SOZLESME_KOKENI_DETAY', 'BASLANGIC_TARIHI', 'KAPSAM_TIPI',\n",
       "       'KAPSAM_GRUBU', 'DAGITIM_KANALI', 'POLICE_SEHIR', 'DOGUM_TARIHI',\n",
       "       'CINSIYET', 'UYRUK', 'MEMLEKET', 'MESLEK', 'MESLEK_KIRILIM',\n",
       "       'MUSTERI_SEGMENTI', 'YATIRIM_KARAKTERI', 'MEDENI_HAL', 'EGITIM_DURUM',\n",
       "       'GELIR', 'COCUK_SAYISI', 'OCAK_ODENEN_TUTAR', 'OCAK_VADE_TUTARI',\n",
       "       'SUBAT_ODENEN_TU', 'SUBAT_VADE_TUTARI', 'MART_ODENEN_TUTAR',\n",
       "       'MART_VADE_TUTARI', 'NISAN_ODENEN_TUTAR', 'NISAN_VADE_TUTARI',\n",
       "       'MAYIS_ODENEN_TUTAR', 'MAYIS_VADE_TUTARI', 'HAZIRAN_ODENEN_TUTAR',\n",
       "       'HAZIRAN_VADE_TUTARI', 'TEMMUZ_ODENEN_TUTAR', 'TEMMUZ_VADE_TUTARI',\n",
       "       'AGUSTOS_ODENEN_TUTAR', 'AGUSTOS_VADE_TUTARI', 'EYLUL_ODENEN_TUTAR',\n",
       "       'EYLUL_VADE_TUTARI', 'EKIM_ODENEN_TUTAR', 'EKIM_VADE_TUTARI',\n",
       "       'KASIM_ODENEN_TUTAR', 'KASIM_VADE_TUTARI', 'ARALIK_ODENEN_TUTAR',\n",
       "       'ARALIK_VADE_TUTARI', 'SENE_BASI_HESAP_DEGERI',\n",
       "       'SENE_SONU_HESAP_DEGERI', 'ARTIS_DURUMU'],\n",
       "      dtype='object')"
      ]
     },
     "execution_count": 4,
     "metadata": {},
     "output_type": "execute_result"
    }
   ],
   "source": [
    "df.columns"
   ]
  },
  {
   "cell_type": "code",
   "execution_count": 5,
   "metadata": {},
   "outputs": [
    {
     "data": {
      "text/plain": [
       "(634112, 49)"
      ]
     },
     "execution_count": 5,
     "metadata": {},
     "output_type": "execute_result"
    }
   ],
   "source": [
    "df.shape"
   ]
  },
  {
   "cell_type": "code",
   "execution_count": 6,
   "metadata": {
    "scrolled": false
   },
   "outputs": [
    {
     "data": {
      "text/plain": [
       "POLICY_ID                   int64\n",
       "OFFICE_ID                   int64\n",
       "SIGORTA_TIP                 int64\n",
       "SOZLESME_KOKENI            object\n",
       "SOZLESME_KOKENI_DETAY      object\n",
       "BASLANGIC_TARIHI           object\n",
       "KAPSAM_TIPI                object\n",
       "KAPSAM_GRUBU               object\n",
       "DAGITIM_KANALI             object\n",
       "POLICE_SEHIR               object\n",
       "DOGUM_TARIHI                int64\n",
       "CINSIYET                    int64\n",
       "UYRUK                      object\n",
       "MEMLEKET                    int64\n",
       "MESLEK                     object\n",
       "MESLEK_KIRILIM             object\n",
       "MUSTERI_SEGMENTI          float64\n",
       "YATIRIM_KARAKTERI          object\n",
       "MEDENI_HAL                 object\n",
       "EGITIM_DURUM               object\n",
       "GELIR                      object\n",
       "COCUK_SAYISI              float64\n",
       "OCAK_ODENEN_TUTAR           int64\n",
       "OCAK_VADE_TUTARI          float64\n",
       "SUBAT_ODENEN_TU             int64\n",
       "SUBAT_VADE_TUTARI         float64\n",
       "MART_ODENEN_TUTAR           int64\n",
       "MART_VADE_TUTARI          float64\n",
       "NISAN_ODENEN_TUTAR          int64\n",
       "NISAN_VADE_TUTARI         float64\n",
       "MAYIS_ODENEN_TUTAR          int64\n",
       "MAYIS_VADE_TUTARI         float64\n",
       "HAZIRAN_ODENEN_TUTAR        int64\n",
       "HAZIRAN_VADE_TUTARI       float64\n",
       "TEMMUZ_ODENEN_TUTAR         int64\n",
       "TEMMUZ_VADE_TUTARI        float64\n",
       "AGUSTOS_ODENEN_TUTAR        int64\n",
       "AGUSTOS_VADE_TUTARI       float64\n",
       "EYLUL_ODENEN_TUTAR          int64\n",
       "EYLUL_VADE_TUTARI         float64\n",
       "EKIM_ODENEN_TUTAR           int64\n",
       "EKIM_VADE_TUTARI          float64\n",
       "KASIM_ODENEN_TUTAR          int64\n",
       "KASIM_VADE_TUTARI         float64\n",
       "ARALIK_ODENEN_TUTAR         int64\n",
       "ARALIK_VADE_TUTARI        float64\n",
       "SENE_BASI_HESAP_DEGERI    float64\n",
       "SENE_SONU_HESAP_DEGERI    float64\n",
       "ARTIS_DURUMU                int64\n",
       "dtype: object"
      ]
     },
     "execution_count": 6,
     "metadata": {},
     "output_type": "execute_result"
    }
   ],
   "source": [
    "df.dtypes"
   ]
  },
  {
   "cell_type": "code",
   "execution_count": 7,
   "metadata": {},
   "outputs": [
    {
     "data": {
      "text/plain": [
       "0    558253\n",
       "1     75859\n",
       "Name: YATIRIM_KARAKTERI, dtype: int64"
      ]
     },
     "execution_count": 7,
     "metadata": {},
     "output_type": "execute_result"
    }
   ],
   "source": [
    "# Yatırım karakteri boş mu değil mi iki sınıfta incele\n",
    "\n",
    "df[\"YATIRIM_KARAKTERI\"].fillna(0, inplace=True)\n",
    "df[\"YATIRIM_KARAKTERI\"] = df[\"YATIRIM_KARAKTERI\"].apply(lambda x: 1 if x!=0 else 0)\n",
    "df[\"YATIRIM_KARAKTERI\"].isnull().sum()\n",
    "df[\"YATIRIM_KARAKTERI\"].value_counts()"
   ]
  },
  {
   "cell_type": "code",
   "execution_count": 8,
   "metadata": {
    "scrolled": true
   },
   "outputs": [],
   "source": [
    "# Meslek Kırılım, Uyruk, Sözleşme Kökeni Detay, Dağıtım Kanalı, Age ve Cinsiyet drop edelim\n",
    "\n",
    "drop_list = [\"MESLEK_KIRILIM\", \"UYRUK\", \"CINSIYET\", \"SOZLESME_KOKENI_DETAY\", \"DAGITIM_KANALI\"]\n",
    "df.drop(drop_list, axis=1, inplace=True)"
   ]
  },
  {
   "cell_type": "code",
   "execution_count": 9,
   "metadata": {},
   "outputs": [],
   "source": [
    "def replace_with(col, values, fillna=False):\n",
    "    if  not fillna:\n",
    "        col.fillna(\"null\", inplace=True)\n",
    "        \n",
    "    for i in values:\n",
    "        col = col.replace(i, \"-\".join(list(map(str, i))))\n",
    "        \n",
    "    return col"
   ]
  },
  {
   "cell_type": "code",
   "execution_count": 10,
   "metadata": {},
   "outputs": [],
   "source": [
    "# Sigorta tip sınıfları : 6, 8-7, 4-1\n",
    "\n",
    "g1 = [7,8]\n",
    "g2 = [1,4]\n",
    "\n",
    "df[\"SIGORTA_TIP\"] = replace_with(df[\"SIGORTA_TIP\"], [g1,g2])"
   ]
  },
  {
   "cell_type": "code",
   "execution_count": 11,
   "metadata": {},
   "outputs": [],
   "source": [
    "# medeni hal : Mariage cancelled-divorced-widowed, married, single-boş-other\n",
    "\n",
    "g1 = [\"Marriage Cancelled\",\"Divorced\",\"Widowed\"]\n",
    "g2 = [\"Single\", \"Null\", \"Other\"]\n",
    "\n",
    "df[\"MEDENI_HAL\"] = replace_with(df[\"MEDENI_HAL\"], [g1,g2], fillna=True)"
   ]
  },
  {
   "cell_type": "code",
   "execution_count": 12,
   "metadata": {},
   "outputs": [],
   "source": [
    "# meslekte sektörleri 006-017-008-032-019-024-018-010-null-015-011 bunlar bi grup rest of\n",
    "\n",
    "g1 = ['SEKT006','SEKT017','SEKT008','SEKT032','SEKT019','SEKT024','SEKT018','SEKT010','Null','SEKT015','SEKT011']\n",
    "g2 = list(set(df[\"MESLEK\"].dropna()) - set(g1))\n",
    "\n",
    "df[\"MESLEK\"] = replace_with(df[\"MESLEK\"], [g1, g2], fillna=True)"
   ]
  },
  {
   "cell_type": "code",
   "execution_count": 13,
   "metadata": {},
   "outputs": [],
   "source": [
    "# memleket sınıfları: 1, 2-3\n",
    "\n",
    "df[\"MEMLEKET\"] = replace_with(df[\"MEMLEKET\"], [[2,3]])"
   ]
  },
  {
   "cell_type": "code",
   "execution_count": 14,
   "metadata": {},
   "outputs": [
    {
     "data": {
      "text/plain": [
       "array(['NEW-TRANS_TF', 'TRANS_C-TRANS_L-TRANS'], dtype=object)"
      ]
     },
     "execution_count": 14,
     "metadata": {},
     "output_type": "execute_result"
    }
   ],
   "source": [
    "# sözleşme kökeni: new-transtf, trans-transc-transl\n",
    "\n",
    "g1 = ['NEW', 'TRANS_TF']\n",
    "g2 = ['TRANS_C', 'TRANS_L', 'TRANS']\n",
    "\n",
    "df[\"SOZLESME_KOKENI\"] = replace_with(df[\"SOZLESME_KOKENI\"], [g1,g2])\n",
    "\n",
    "df[\"SOZLESME_KOKENI\"].unique()"
   ]
  },
  {
   "cell_type": "code",
   "execution_count": 15,
   "metadata": {},
   "outputs": [],
   "source": [
    "# kapsam grubu: ?GES STD GRUP ayrı categori olacak diğerleri ayrı\n",
    "\n",
    "g1 = [\"?GES STD GRUP\"]\n",
    "g2 = list(set(df[\"KAPSAM_GRUBU\"]) - set(g1))\n",
    "\n",
    "df[\"KAPSAM_GRUBU\"] = replace_with(df[\"KAPSAM_GRUBU\"], [g2])"
   ]
  },
  {
   "cell_type": "code",
   "execution_count": 16,
   "metadata": {},
   "outputs": [],
   "source": [
    "# kapsam tipi average artış durumu 0.7 ve üzeri olanları grupla yani toplamda 2 sınıf olacak\n",
    "\n",
    "grp = df.groupby(\"KAPSAM_TIPI\")[\"ARTIS_DURUMU\"].mean()\n",
    "g1 = grp[grp>=0.7].index\n",
    "g2 = grp[grp<0.7].index\n",
    "\n",
    "df[\"KAPSAM_TIPI\"] = replace_with(df[\"KAPSAM_TIPI\"], [g1, g2])"
   ]
  },
  {
   "cell_type": "code",
   "execution_count": 17,
   "metadata": {},
   "outputs": [],
   "source": [
    "# eğitim durumu : (Di?er)-Lise-null-?lkö?retim ayrı diğerleri ayrı\n",
    "\n",
    "g1 = [\"(Di?er)\", \"Lise\", \"Null\", \"?lkö?retim\"]\n",
    "g2 = list({'(Di?er)','?lkö?retim','Doktora','Lisans','Lise','Yüksek Lisans','Önlisans'} - set(g1))\n",
    "\n",
    "df[\"EGITIM_DURUM\"] = replace_with(df[\"EGITIM_DURUM\"], [g1, g2], fillna=True)"
   ]
  },
  {
   "cell_type": "code",
   "execution_count": 18,
   "metadata": {},
   "outputs": [],
   "source": [
    "# müşteri segmenti: 106, 105 ve diğerleri\n",
    "\n",
    "g1 = [106,105]\n",
    "g2 = list(set(df[\"MUSTERI_SEGMENTI\"].dropna()) - set(g1)) + [\"Null\"]\n",
    "\n",
    "df[\"MUSTERI_SEGMENTI\"] = replace_with(df[\"MUSTERI_SEGMENTI\"], [g2], fillna=True)"
   ]
  },
  {
   "cell_type": "code",
   "execution_count": 19,
   "metadata": {},
   "outputs": [],
   "source": [
    "num_to_cat_cols = ['POLICY_ID','OFFICE_ID','SIGORTA_TIP','CINSIYET','MEMLEKET','MUSTERI_SEGMENTI']\n",
    "for col in df.columns:\n",
    "    if ((df[col].dtype == 'object') | (col in num_to_cat_cols)) & (col != 'GELIR'):\n",
    "        df[col] = df[col].astype('category')"
   ]
  },
  {
   "cell_type": "code",
   "execution_count": 20,
   "metadata": {},
   "outputs": [],
   "source": [
    "df['BASLANGIC_TARIHI'] = pd.to_datetime(df['BASLANGIC_TARIHI'].astype('str'), format='%Y/%m')\n",
    "df = df[(df[\"GELIR\"].str.contains(\",\")==False) | (df[\"GELIR\"].isna())]"
   ]
  },
  {
   "cell_type": "code",
   "execution_count": 21,
   "metadata": {},
   "outputs": [],
   "source": [
    "df['GELIR'] = df['GELIR'].astype('float')"
   ]
  },
  {
   "cell_type": "code",
   "execution_count": 22,
   "metadata": {
    "scrolled": false
   },
   "outputs": [
    {
     "data": {
      "text/plain": [
       "POLICY_ID                       category\n",
       "OFFICE_ID                       category\n",
       "SIGORTA_TIP                     category\n",
       "SOZLESME_KOKENI                 category\n",
       "BASLANGIC_TARIHI          datetime64[ns]\n",
       "KAPSAM_TIPI                     category\n",
       "KAPSAM_GRUBU                    category\n",
       "POLICE_SEHIR                    category\n",
       "DOGUM_TARIHI                       int64\n",
       "MEMLEKET                        category\n",
       "MESLEK                          category\n",
       "MUSTERI_SEGMENTI                category\n",
       "YATIRIM_KARAKTERI                  int64\n",
       "MEDENI_HAL                      category\n",
       "EGITIM_DURUM                    category\n",
       "GELIR                            float64\n",
       "COCUK_SAYISI                     float64\n",
       "OCAK_ODENEN_TUTAR                  int64\n",
       "OCAK_VADE_TUTARI                 float64\n",
       "SUBAT_ODENEN_TU                    int64\n",
       "SUBAT_VADE_TUTARI                float64\n",
       "MART_ODENEN_TUTAR                  int64\n",
       "MART_VADE_TUTARI                 float64\n",
       "NISAN_ODENEN_TUTAR                 int64\n",
       "NISAN_VADE_TUTARI                float64\n",
       "MAYIS_ODENEN_TUTAR                 int64\n",
       "MAYIS_VADE_TUTARI                float64\n",
       "HAZIRAN_ODENEN_TUTAR               int64\n",
       "HAZIRAN_VADE_TUTARI              float64\n",
       "TEMMUZ_ODENEN_TUTAR                int64\n",
       "TEMMUZ_VADE_TUTARI               float64\n",
       "AGUSTOS_ODENEN_TUTAR               int64\n",
       "AGUSTOS_VADE_TUTARI              float64\n",
       "EYLUL_ODENEN_TUTAR                 int64\n",
       "EYLUL_VADE_TUTARI                float64\n",
       "EKIM_ODENEN_TUTAR                  int64\n",
       "EKIM_VADE_TUTARI                 float64\n",
       "KASIM_ODENEN_TUTAR                 int64\n",
       "KASIM_VADE_TUTARI                float64\n",
       "ARALIK_ODENEN_TUTAR                int64\n",
       "ARALIK_VADE_TUTARI               float64\n",
       "SENE_BASI_HESAP_DEGERI           float64\n",
       "SENE_SONU_HESAP_DEGERI           float64\n",
       "ARTIS_DURUMU                       int64\n",
       "dtype: object"
      ]
     },
     "execution_count": 22,
     "metadata": {},
     "output_type": "execute_result"
    }
   ],
   "source": [
    "df.dtypes"
   ]
  }
 ],
 "metadata": {
  "kernelspec": {
   "display_name": "Python 3 (ipykernel)",
   "language": "python",
   "name": "python3"
  },
  "language_info": {
   "codemirror_mode": {
    "name": "ipython",
    "version": 3
   },
   "file_extension": ".py",
   "mimetype": "text/x-python",
   "name": "python",
   "nbconvert_exporter": "python",
   "pygments_lexer": "ipython3",
   "version": "3.9.7"
  },
  "vscode": {
   "interpreter": {
    "hash": "5c23e7c5a7423814195b05551dd12b8a8b1c38f60bb52c13bfe794e0a8e8744f"
   }
  }
 },
 "nbformat": 4,
 "nbformat_minor": 2
}
